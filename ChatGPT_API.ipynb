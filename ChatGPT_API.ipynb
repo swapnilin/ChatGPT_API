{
 "cells": [
  {
   "cell_type": "markdown",
   "id": "95dd960e",
   "metadata": {},
   "source": [
    "# ChatGPT - API"
   ]
  },
  {
   "cell_type": "markdown",
   "id": "7fb540df",
   "metadata": {},
   "source": [
    "#### This notebook demonstrates how to use GPT-3 Model API for conversational AI\n",
    "\n",
    "The ChatGPT API provides access to the ChatGPT language model, which is a specialized version of the GPT-3 model that is specifically designed for conversational AI. "
   ]
  },
  {
   "cell_type": "code",
   "execution_count": 1,
   "id": "249666e5",
   "metadata": {},
   "outputs": [
    {
     "name": "stdout",
     "output_type": "stream",
     "text": [
      "Collecting openai\n",
      "  Downloading openai-0.26.4.tar.gz (55 kB)\n",
      "\u001b[2K     \u001b[90m━━━━━━━━━━━━━━━━━━━━━━━━━━━━━━━━━━━━━━━━\u001b[0m \u001b[32m55.6/55.6 kB\u001b[0m \u001b[31m1.7 MB/s\u001b[0m eta \u001b[36m0:00:00\u001b[0m\n",
      "\u001b[?25h  Installing build dependencies ... \u001b[?25ldone\n",
      "\u001b[?25h  Getting requirements to build wheel ... \u001b[?25ldone\n",
      "\u001b[?25h  Installing backend dependencies ... \u001b[?25ldone\n",
      "\u001b[?25h  Preparing metadata (pyproject.toml) ... \u001b[?25ldone\n",
      "\u001b[?25hRequirement already satisfied: tqdm in /Users/swapnil/opt/anaconda3/lib/python3.9/site-packages (from openai) (4.64.1)\n",
      "Collecting aiohttp\n",
      "  Downloading aiohttp-3.8.3-cp39-cp39-macosx_10_9_x86_64.whl (360 kB)\n",
      "\u001b[2K     \u001b[90m━━━━━━━━━━━━━━━━━━━━━━━━━━━━━━━━━━━━━━━\u001b[0m \u001b[32m360.7/360.7 kB\u001b[0m \u001b[31m8.7 MB/s\u001b[0m eta \u001b[36m0:00:00\u001b[0m00:01\u001b[0m\n",
      "\u001b[?25hRequirement already satisfied: requests>=2.20 in /Users/swapnil/opt/anaconda3/lib/python3.9/site-packages (from openai) (2.28.1)\n",
      "Requirement already satisfied: urllib3<1.27,>=1.21.1 in /Users/swapnil/opt/anaconda3/lib/python3.9/site-packages (from requests>=2.20->openai) (1.26.11)\n",
      "Requirement already satisfied: charset-normalizer<3,>=2 in /Users/swapnil/opt/anaconda3/lib/python3.9/site-packages (from requests>=2.20->openai) (2.0.4)\n",
      "Requirement already satisfied: idna<4,>=2.5 in /Users/swapnil/opt/anaconda3/lib/python3.9/site-packages (from requests>=2.20->openai) (3.3)\n",
      "Requirement already satisfied: certifi>=2017.4.17 in /Users/swapnil/opt/anaconda3/lib/python3.9/site-packages (from requests>=2.20->openai) (2022.9.24)\n",
      "Collecting frozenlist>=1.1.1\n",
      "  Downloading frozenlist-1.3.3-cp39-cp39-macosx_10_9_x86_64.whl (36 kB)\n",
      "Collecting yarl<2.0,>=1.0\n",
      "  Downloading yarl-1.8.2-cp39-cp39-macosx_10_9_x86_64.whl (61 kB)\n",
      "\u001b[2K     \u001b[90m━━━━━━━━━━━━━━━━━━━━━━━━━━━━━━━━━━━━━━━━\u001b[0m \u001b[32m61.2/61.2 kB\u001b[0m \u001b[31m2.3 MB/s\u001b[0m eta \u001b[36m0:00:00\u001b[0m\n",
      "\u001b[?25hCollecting async-timeout<5.0,>=4.0.0a3\n",
      "  Downloading async_timeout-4.0.2-py3-none-any.whl (5.8 kB)\n",
      "Collecting multidict<7.0,>=4.5\n",
      "  Downloading multidict-6.0.4-cp39-cp39-macosx_10_9_x86_64.whl (29 kB)\n",
      "Requirement already satisfied: attrs>=17.3.0 in /Users/swapnil/opt/anaconda3/lib/python3.9/site-packages (from aiohttp->openai) (21.4.0)\n",
      "Collecting aiosignal>=1.1.2\n",
      "  Downloading aiosignal-1.3.1-py3-none-any.whl (7.6 kB)\n",
      "Building wheels for collected packages: openai\n",
      "  Building wheel for openai (pyproject.toml) ... \u001b[?25ldone\n",
      "\u001b[?25h  Created wheel for openai: filename=openai-0.26.4-py3-none-any.whl size=67722 sha256=b78c0bc16264aa9e1436721f1e9eabb991e2049d43892e218395ab69fea69ca3\n",
      "  Stored in directory: /Users/swapnil/Library/Caches/pip/wheels/6c/15/7e/10950b76450328e6997e4319968c5412a28569ccf33b1e4a04\n",
      "Successfully built openai\n",
      "Installing collected packages: multidict, frozenlist, async-timeout, yarl, aiosignal, aiohttp, openai\n",
      "Successfully installed aiohttp-3.8.3 aiosignal-1.3.1 async-timeout-4.0.2 frozenlist-1.3.3 multidict-6.0.4 openai-0.26.4 yarl-1.8.2\n",
      "Collecting catboost\n",
      "  Downloading catboost-1.1.1-cp39-none-macosx_10_6_universal2.whl (22.0 MB)\n",
      "\u001b[2K     \u001b[90m━━━━━━━━━━━━━━━━━━━━━━━━━━━━━━━━━━━━━━━━\u001b[0m \u001b[32m22.0/22.0 MB\u001b[0m \u001b[31m8.5 MB/s\u001b[0m eta \u001b[36m0:00:00\u001b[0m00:01\u001b[0m00:01\u001b[0mm\n",
      "\u001b[?25hRequirement already satisfied: matplotlib in /Users/swapnil/opt/anaconda3/lib/python3.9/site-packages (from catboost) (3.5.2)\n",
      "Requirement already satisfied: numpy>=1.16.0 in /Users/swapnil/opt/anaconda3/lib/python3.9/site-packages (from catboost) (1.21.5)\n",
      "Requirement already satisfied: plotly in /Users/swapnil/opt/anaconda3/lib/python3.9/site-packages (from catboost) (5.9.0)\n",
      "Requirement already satisfied: six in /Users/swapnil/opt/anaconda3/lib/python3.9/site-packages (from catboost) (1.16.0)\n",
      "Requirement already satisfied: scipy in /Users/swapnil/opt/anaconda3/lib/python3.9/site-packages (from catboost) (1.9.1)\n",
      "Requirement already satisfied: pandas>=0.24.0 in /Users/swapnil/opt/anaconda3/lib/python3.9/site-packages (from catboost) (1.4.4)\n",
      "Collecting graphviz\n",
      "  Downloading graphviz-0.20.1-py3-none-any.whl (47 kB)\n",
      "\u001b[2K     \u001b[90m━━━━━━━━━━━━━━━━━━━━━━━━━━━━━━━━━━━━━━━━\u001b[0m \u001b[32m47.0/47.0 kB\u001b[0m \u001b[31m1.9 MB/s\u001b[0m eta \u001b[36m0:00:00\u001b[0m\n",
      "\u001b[?25hRequirement already satisfied: python-dateutil>=2.8.1 in /Users/swapnil/opt/anaconda3/lib/python3.9/site-packages (from pandas>=0.24.0->catboost) (2.8.2)\n",
      "Requirement already satisfied: pytz>=2020.1 in /Users/swapnil/opt/anaconda3/lib/python3.9/site-packages (from pandas>=0.24.0->catboost) (2022.1)\n",
      "Requirement already satisfied: cycler>=0.10 in /Users/swapnil/opt/anaconda3/lib/python3.9/site-packages (from matplotlib->catboost) (0.11.0)\n",
      "Requirement already satisfied: packaging>=20.0 in /Users/swapnil/opt/anaconda3/lib/python3.9/site-packages (from matplotlib->catboost) (21.3)\n",
      "Requirement already satisfied: pyparsing>=2.2.1 in /Users/swapnil/opt/anaconda3/lib/python3.9/site-packages (from matplotlib->catboost) (3.0.9)\n",
      "Requirement already satisfied: pillow>=6.2.0 in /Users/swapnil/opt/anaconda3/lib/python3.9/site-packages (from matplotlib->catboost) (9.2.0)\n",
      "Requirement already satisfied: fonttools>=4.22.0 in /Users/swapnil/opt/anaconda3/lib/python3.9/site-packages (from matplotlib->catboost) (4.25.0)\n",
      "Requirement already satisfied: kiwisolver>=1.0.1 in /Users/swapnil/opt/anaconda3/lib/python3.9/site-packages (from matplotlib->catboost) (1.4.2)\n",
      "Requirement already satisfied: tenacity>=6.2.0 in /Users/swapnil/opt/anaconda3/lib/python3.9/site-packages (from plotly->catboost) (8.0.1)\n",
      "Installing collected packages: graphviz, catboost\n",
      "Successfully installed catboost-1.1.1 graphviz-0.20.1\n"
     ]
    }
   ],
   "source": [
    "# Install two libraries\n",
    "!pip install openai\n",
    "!pip install catboost"
   ]
  },
  {
   "cell_type": "code",
   "execution_count": 4,
   "id": "327fc425",
   "metadata": {},
   "outputs": [],
   "source": [
    "# Import open ai\n",
    "import openai"
   ]
  },
  {
   "cell_type": "markdown",
   "id": "c3817d5d",
   "metadata": {},
   "source": [
    "The `openai.api_key` variable is used to set the API key for accessing the OpenAI API. The API key is a secret value that is used to authenticate the API requests and to identify the calling application or user. By setting the openai.api_key variable, the API key is stored in memory, and can be used to authenticate subsequent API requests without having to explicitly pass the API key in each request."
   ]
  },
  {
   "cell_type": "code",
   "execution_count": 8,
   "id": "16265063",
   "metadata": {},
   "outputs": [],
   "source": [
    "# copy the key from your openai account\n",
    "variableopenai.api_key = \"sk-aSmVdRysuGHLNNSq96VHT3BlbkF\""
   ]
  },
  {
   "cell_type": "markdown",
   "id": "02789f6e",
   "metadata": {},
   "source": [
    "## Arguments"
   ]
  },
  {
   "cell_type": "markdown",
   "id": "78e8151d",
   "metadata": {},
   "source": [
    "1. The `engine` arguments helps you choose the model. List of models can be found here: https://platform.openai.com/docs/models/gpt-3"
   ]
  },
  {
   "cell_type": "markdown",
   "id": "d4471b62",
   "metadata": {},
   "source": [
    "2. The `prompt` argument specifies the text input that is provided to the language model. It can be used to specify the initial text or context for a conversation, or to provide a question or statement that the language model should respond to."
   ]
  },
  {
   "cell_type": "markdown",
   "id": "b64c282d",
   "metadata": {},
   "source": [
    "3. The `max_tokens` argument in the API determines the maximum number of tokens that should be generated in response to the prompt. In other words, it sets a limit on the maximum number of words that the API should generate in its response."
   ]
  },
  {
   "cell_type": "code",
   "execution_count": 9,
   "id": "5ca35738",
   "metadata": {},
   "outputs": [],
   "source": [
    "result = openai.Completion.create(engine='text-davinci-003', prompt='What is ChatGPT', max_tokens=1000)"
   ]
  },
  {
   "cell_type": "markdown",
   "id": "e8667cb3",
   "metadata": {},
   "source": [
    "#### Results\n",
    "\n",
    "* The OpenAI API returns the prompt response in a JSON format, which stands for JavaScript Object Notation. <br><br>\n",
    "\n",
    "* The JSON response from the OpenAI API typically includes information about the generated text, such as the completions generated, the scores assigned to each completion, and any other relevant metadata. <br><br>\n",
    "* The \"score\" in the OpenAI API response represents the confidence score assigned by the API to each completion. It is a value between 0 and 1, where 1 represents the highest confidence and 0 the lowest.<br><br>\n",
    "\n",
    "* The confidence score is a numerical representation of the API's assessment of the quality or relevance of the generated completion. A high score indicates that the API is highly confident in the quality or relevance of the completion, while a low score suggests the opposite.<br><br>\n",
    "\n",
    "* The confidence score can be used to help determine which completions are most likely to be accurate or relevant, and to filter out lower quality completions if desired."
   ]
  },
  {
   "cell_type": "code",
   "execution_count": 10,
   "id": "dd769ebc",
   "metadata": {},
   "outputs": [
    {
     "data": {
      "text/plain": [
       "<OpenAIObject text_completion id=cmpl-6ewbfVYQxFGpI3ZTFp3HR1WuduamX at 0x7fceaf645a90> JSON: {\n",
       "  \"choices\": [\n",
       "    {\n",
       "      \"finish_reason\": \"stop\",\n",
       "      \"index\": 0,\n",
       "      \"logprobs\": null,\n",
       "      \"text\": \"?\\n\\nChatGPT is an open-source natural language processing (NLP) model from Microsoft Research that is designed to generate response in conversations. It uses the same technology as OpenAI's GPT-3 language model, allowing for more natural and interactive conversations. ChatGPT focuses on improving the conversational experience, enabling users to ask questions and receive more natural-sounding responses.\"\n",
       "    }\n",
       "  ],\n",
       "  \"created\": 1675216423,\n",
       "  \"id\": \"cmpl-6ewbfVYQxFGpI3ZTFp3HR1WuduamX\",\n",
       "  \"model\": \"text-davinci-003\",\n",
       "  \"object\": \"text_completion\",\n",
       "  \"usage\": {\n",
       "    \"completion_tokens\": 79,\n",
       "    \"prompt_tokens\": 5,\n",
       "    \"total_tokens\": 84\n",
       "  }\n",
       "}"
      ]
     },
     "execution_count": 10,
     "metadata": {},
     "output_type": "execute_result"
    }
   ],
   "source": [
    "# the result is in a JSON format\n",
    "result"
   ]
  },
  {
   "cell_type": "markdown",
   "id": "08b39216",
   "metadata": {},
   "source": [
    "    "
   ]
  },
  {
   "cell_type": "markdown",
   "id": "2689e202",
   "metadata": {},
   "source": [
    "Note: <br>\n",
    "**total_tokens** field in the JSON result is counting more than just the words in the text, such as punctuation marks, symbols, or special characters."
   ]
  },
  {
   "cell_type": "markdown",
   "id": "b6e9c6a0",
   "metadata": {},
   "source": [
    "If you just want the text output:"
   ]
  },
  {
   "cell_type": "code",
   "execution_count": 11,
   "id": "f6b1e332",
   "metadata": {},
   "outputs": [
    {
     "data": {
      "text/plain": [
       "<OpenAIObject at 0x7fceb2b2c4f0> JSON: {\n",
       "  \"finish_reason\": \"stop\",\n",
       "  \"index\": 0,\n",
       "  \"logprobs\": null,\n",
       "  \"text\": \"?\\n\\nChatGPT is an open-source natural language processing (NLP) model from Microsoft Research that is designed to generate response in conversations. It uses the same technology as OpenAI's GPT-3 language model, allowing for more natural and interactive conversations. ChatGPT focuses on improving the conversational experience, enabling users to ask questions and receive more natural-sounding responses.\"\n",
       "}"
      ]
     },
     "execution_count": 11,
     "metadata": {},
     "output_type": "execute_result"
    }
   ],
   "source": [
    "result.choices[0]"
   ]
  },
  {
   "cell_type": "code",
   "execution_count": 12,
   "id": "246e8ac1",
   "metadata": {},
   "outputs": [
    {
     "data": {
      "text/plain": [
       "\"?\\n\\nChatGPT is an open-source natural language processing (NLP) model from Microsoft Research that is designed to generate response in conversations. It uses the same technology as OpenAI's GPT-3 language model, allowing for more natural and interactive conversations. ChatGPT focuses on improving the conversational experience, enabling users to ask questions and receive more natural-sounding responses.\""
      ]
     },
     "execution_count": 12,
     "metadata": {},
     "output_type": "execute_result"
    }
   ],
   "source": [
    "result.choices[0]['text']"
   ]
  },
  {
   "cell_type": "code",
   "execution_count": null,
   "id": "d231522b",
   "metadata": {},
   "outputs": [],
   "source": []
  }
 ],
 "metadata": {
  "kernelspec": {
   "display_name": "Python 3 (ipykernel)",
   "language": "python",
   "name": "python3"
  },
  "language_info": {
   "codemirror_mode": {
    "name": "ipython",
    "version": 3
   },
   "file_extension": ".py",
   "mimetype": "text/x-python",
   "name": "python",
   "nbconvert_exporter": "python",
   "pygments_lexer": "ipython3",
   "version": "3.9.13"
  }
 },
 "nbformat": 4,
 "nbformat_minor": 5
}
