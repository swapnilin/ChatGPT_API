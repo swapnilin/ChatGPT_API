{
 "cells": [
  {
   "cell_type": "markdown",
   "id": "95dd960e",
   "metadata": {},
   "source": [
    "# ChatGPT - API"
   ]
  },
  {
   "cell_type": "markdown",
   "id": "7fb540df",
   "metadata": {},
   "source": [
    "#### This notebook demonstrates how to use GPT-3 Model API for conversational AI\n",
    "\n",
    "The ChatGPT API provides access to the ChatGPT language model, which is a specialized version of the GPT-3 model that is specifically designed for conversational AI. "
   ]
  },
  {
   "cell_type": "code",
   "execution_count": 13,
   "id": "249666e5",
   "metadata": {},
   "outputs": [
    {
     "name": "stdout",
     "output_type": "stream",
     "text": [
      "Requirement already satisfied: openai in /Users/swapnil/opt/anaconda3/lib/python3.9/site-packages (0.26.4)\n",
      "Requirement already satisfied: aiohttp in /Users/swapnil/opt/anaconda3/lib/python3.9/site-packages (from openai) (3.8.3)\n",
      "Requirement already satisfied: requests>=2.20 in /Users/swapnil/opt/anaconda3/lib/python3.9/site-packages (from openai) (2.28.1)\n",
      "Requirement already satisfied: tqdm in /Users/swapnil/opt/anaconda3/lib/python3.9/site-packages (from openai) (4.64.1)\n",
      "Requirement already satisfied: certifi>=2017.4.17 in /Users/swapnil/opt/anaconda3/lib/python3.9/site-packages (from requests>=2.20->openai) (2022.9.24)\n",
      "Requirement already satisfied: charset-normalizer<3,>=2 in /Users/swapnil/opt/anaconda3/lib/python3.9/site-packages (from requests>=2.20->openai) (2.0.4)\n",
      "Requirement already satisfied: idna<4,>=2.5 in /Users/swapnil/opt/anaconda3/lib/python3.9/site-packages (from requests>=2.20->openai) (3.3)\n",
      "Requirement already satisfied: urllib3<1.27,>=1.21.1 in /Users/swapnil/opt/anaconda3/lib/python3.9/site-packages (from requests>=2.20->openai) (1.26.11)\n",
      "Requirement already satisfied: multidict<7.0,>=4.5 in /Users/swapnil/opt/anaconda3/lib/python3.9/site-packages (from aiohttp->openai) (6.0.4)\n",
      "Requirement already satisfied: attrs>=17.3.0 in /Users/swapnil/opt/anaconda3/lib/python3.9/site-packages (from aiohttp->openai) (21.4.0)\n",
      "Requirement already satisfied: frozenlist>=1.1.1 in /Users/swapnil/opt/anaconda3/lib/python3.9/site-packages (from aiohttp->openai) (1.3.3)\n",
      "Requirement already satisfied: async-timeout<5.0,>=4.0.0a3 in /Users/swapnil/opt/anaconda3/lib/python3.9/site-packages (from aiohttp->openai) (4.0.2)\n",
      "Requirement already satisfied: aiosignal>=1.1.2 in /Users/swapnil/opt/anaconda3/lib/python3.9/site-packages (from aiohttp->openai) (1.3.1)\n",
      "Requirement already satisfied: yarl<2.0,>=1.0 in /Users/swapnil/opt/anaconda3/lib/python3.9/site-packages (from aiohttp->openai) (1.8.2)\n"
     ]
    }
   ],
   "source": [
    "# Install two libraries\n",
    "!pip install openai"
   ]
  },
  {
   "cell_type": "code",
   "execution_count": 4,
   "id": "327fc425",
   "metadata": {},
   "outputs": [],
   "source": [
    "# Import open ai\n",
    "import openai"
   ]
  },
  {
   "cell_type": "markdown",
   "id": "c3817d5d",
   "metadata": {},
   "source": [
    "The `openai.api_key` variable is used to set the API key for accessing the OpenAI API. The API key is a secret value that is used to authenticate the API requests and to identify the calling application or user. By setting the openai.api_key variable, the API key is stored in memory, and can be used to authenticate subsequent API requests without having to explicitly pass the API key in each request."
   ]
  },
  {
   "cell_type": "code",
   "execution_count": 8,
   "id": "16265063",
   "metadata": {},
   "outputs": [],
   "source": [
    "# copy the key from your openai account\n",
    "variableopenai.api_key = \"sk-aSmVdRysuGHLNNSq96VHT3BlbkF\""
   ]
  },
  {
   "cell_type": "markdown",
   "id": "02789f6e",
   "metadata": {},
   "source": [
    "## Arguments"
   ]
  },
  {
   "cell_type": "markdown",
   "id": "78e8151d",
   "metadata": {},
   "source": [
    "1. The `engine` arguments helps you choose the model. List of models can be found here: https://platform.openai.com/docs/models/gpt-3"
   ]
  },
  {
   "cell_type": "markdown",
   "id": "d4471b62",
   "metadata": {},
   "source": [
    "2. The `prompt` argument specifies the text input that is provided to the language model. It can be used to specify the initial text or context for a conversation, or to provide a question or statement that the language model should respond to."
   ]
  },
  {
   "cell_type": "markdown",
   "id": "b64c282d",
   "metadata": {},
   "source": [
    "3. The `max_tokens` argument in the API determines the maximum number of tokens that should be generated in response to the prompt. In other words, it sets a limit on the maximum number of words that the API should generate in its response."
   ]
  },
  {
   "cell_type": "code",
   "execution_count": 9,
   "id": "5ca35738",
   "metadata": {},
   "outputs": [],
   "source": [
    "result = openai.Completion.create(engine='text-davinci-003', prompt='What is ChatGPT', max_tokens=1000)"
   ]
  },
  {
   "cell_type": "markdown",
   "id": "e8667cb3",
   "metadata": {},
   "source": [
    "#### Results\n",
    "\n",
    "* The OpenAI API returns the prompt response in a JSON format, which stands for JavaScript Object Notation. <br><br>\n",
    "\n",
    "* The JSON response from the OpenAI API typically includes information about the generated text, such as the completions generated, the scores assigned to each completion, and any other relevant metadata. <br><br>\n",
    "* The \"score\" in the OpenAI API response represents the confidence score assigned by the API to each completion. It is a value between 0 and 1, where 1 represents the highest confidence and 0 the lowest.<br><br>\n",
    "\n",
    "* The confidence score is a numerical representation of the API's assessment of the quality or relevance of the generated completion. A high score indicates that the API is highly confident in the quality or relevance of the completion, while a low score suggests the opposite.<br><br>\n",
    "\n",
    "* The confidence score can be used to help determine which completions are most likely to be accurate or relevant, and to filter out lower quality completions if desired."
   ]
  },
  {
   "cell_type": "code",
   "execution_count": 10,
   "id": "dd769ebc",
   "metadata": {},
   "outputs": [
    {
     "data": {
      "text/plain": [
       "<OpenAIObject text_completion id=cmpl-6ewbfVYQxFGpI3ZTFp3HR1WuduamX at 0x7fceaf645a90> JSON: {\n",
       "  \"choices\": [\n",
       "    {\n",
       "      \"finish_reason\": \"stop\",\n",
       "      \"index\": 0,\n",
       "      \"logprobs\": null,\n",
       "      \"text\": \"?\\n\\nChatGPT is an open-source natural language processing (NLP) model from Microsoft Research that is designed to generate response in conversations. It uses the same technology as OpenAI's GPT-3 language model, allowing for more natural and interactive conversations. ChatGPT focuses on improving the conversational experience, enabling users to ask questions and receive more natural-sounding responses.\"\n",
       "    }\n",
       "  ],\n",
       "  \"created\": 1675216423,\n",
       "  \"id\": \"cmpl-6ewbfVYQxFGpI3ZTFp3HR1WuduamX\",\n",
       "  \"model\": \"text-davinci-003\",\n",
       "  \"object\": \"text_completion\",\n",
       "  \"usage\": {\n",
       "    \"completion_tokens\": 79,\n",
       "    \"prompt_tokens\": 5,\n",
       "    \"total_tokens\": 84\n",
       "  }\n",
       "}"
      ]
     },
     "execution_count": 10,
     "metadata": {},
     "output_type": "execute_result"
    }
   ],
   "source": [
    "# the result is in a JSON format\n",
    "result"
   ]
  },
  {
   "cell_type": "markdown",
   "id": "08b39216",
   "metadata": {},
   "source": [
    "    "
   ]
  },
  {
   "cell_type": "markdown",
   "id": "2689e202",
   "metadata": {},
   "source": [
    "Note: <br>\n",
    "**total_tokens** field in the JSON result is counting more than just the words in the text, such as punctuation marks, symbols, or special characters."
   ]
  },
  {
   "cell_type": "markdown",
   "id": "b6e9c6a0",
   "metadata": {},
   "source": [
    "If you just want the text output:"
   ]
  },
  {
   "cell_type": "code",
   "execution_count": 11,
   "id": "f6b1e332",
   "metadata": {},
   "outputs": [
    {
     "data": {
      "text/plain": [
       "<OpenAIObject at 0x7fceb2b2c4f0> JSON: {\n",
       "  \"finish_reason\": \"stop\",\n",
       "  \"index\": 0,\n",
       "  \"logprobs\": null,\n",
       "  \"text\": \"?\\n\\nChatGPT is an open-source natural language processing (NLP) model from Microsoft Research that is designed to generate response in conversations. It uses the same technology as OpenAI's GPT-3 language model, allowing for more natural and interactive conversations. ChatGPT focuses on improving the conversational experience, enabling users to ask questions and receive more natural-sounding responses.\"\n",
       "}"
      ]
     },
     "execution_count": 11,
     "metadata": {},
     "output_type": "execute_result"
    }
   ],
   "source": [
    "result.choices[0]"
   ]
  },
  {
   "cell_type": "code",
   "execution_count": 12,
   "id": "246e8ac1",
   "metadata": {},
   "outputs": [
    {
     "data": {
      "text/plain": [
       "\"?\\n\\nChatGPT is an open-source natural language processing (NLP) model from Microsoft Research that is designed to generate response in conversations. It uses the same technology as OpenAI's GPT-3 language model, allowing for more natural and interactive conversations. ChatGPT focuses on improving the conversational experience, enabling users to ask questions and receive more natural-sounding responses.\""
      ]
     },
     "execution_count": 12,
     "metadata": {},
     "output_type": "execute_result"
    }
   ],
   "source": [
    "result.choices[0]['text']"
   ]
  },
  {
   "cell_type": "code",
   "execution_count": null,
   "id": "d231522b",
   "metadata": {},
   "outputs": [],
   "source": []
  }
 ],
 "metadata": {
  "kernelspec": {
   "display_name": "Python 3 (ipykernel)",
   "language": "python",
   "name": "python3"
  },
  "language_info": {
   "codemirror_mode": {
    "name": "ipython",
    "version": 3
   },
   "file_extension": ".py",
   "mimetype": "text/x-python",
   "name": "python",
   "nbconvert_exporter": "python",
   "pygments_lexer": "ipython3",
   "version": "3.9.13"
  }
 },
 "nbformat": 4,
 "nbformat_minor": 5
}
